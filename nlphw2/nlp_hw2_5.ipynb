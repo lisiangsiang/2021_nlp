{
 "cells": [
  {
   "cell_type": "code",
   "execution_count": 2,
   "metadata": {},
   "outputs": [],
   "source": [
    "import requests\n",
    "import re\n",
    "from bs4 import BeautifulSoup\n",
    "import pandas as pd"
   ]
  },
  {
   "cell_type": "code",
   "execution_count": 3,
   "metadata": {
    "scrolled": true
   },
   "outputs": [
    {
     "name": "stdout",
     "output_type": "stream",
     "text": [
      "OK\n"
     ]
    }
   ],
   "source": [
    "num=range(1,6500)\n",
    "story_list=[]#劇情\n",
    "title_list=[]#名稱\n",
    "date_list=[]#上映日期\n",
    "attribute_list=[]#類型\n",
    "\n",
    "for i in num:\n",
    "    url = 'https://movies.yahoo.com.tw/movieinfo_main/'+str(i)\n",
    "    k=k+1\n",
    "    resp = requests.get(url)\n",
    "    resp.encoding = 'utf-8'\n",
    "    soup = BeautifulSoup(resp.text,'lxml')\n",
    "    check=soup.find(\"title\")\n",
    "    if check.getText() == 'Yahoo奇摩電影':#除錯\n",
    "        continue\n",
    "    #上映日期\n",
    "    date=soup.find_all(\"span\")\n",
    "    date_list.append(date[60].getText())\n",
    "    #名稱\n",
    "    title=soup.find(\"h1\")\n",
    "    title_eng=soup.find(\"h3\")\n",
    "    title_list.append(title.getText()+' '+title_eng.getText())\n",
    "    #劇情\n",
    "    story=soup.find(\"span\",id=\"story\")\n",
    "    story_text=story.getText()\n",
    "    story_text.strip().replace(u'\\u3000', u' ').replace(u'\\xa0', u' ')\n",
    "    story_list.append(story_text)\n",
    "    #類別\n",
    "    attribute=soup.find_all(\"div\",class_=\"level_name\")\n",
    "    attribute_text=''\n",
    "    flag=0\n",
    "    for attr in attribute:\n",
    "        if attr.a:\n",
    "            if flag==0:\n",
    "                attribute_text=attr.a.text.strip().replace(u'\\u3000', u' ').replace(u'\\xa0', u' ')\n",
    "                flag=1\n",
    "            else:\n",
    "                attribute_text=attribute_text+'、'+attr.a.text.strip().replace(u'\\u3000', u' ').replace(u'\\xa0', u' ')\n",
    "    attribute_list.append(attribute_text)\n",
    "    \n",
    "print('OK')"
   ]
  },
  {
   "cell_type": "code",
   "execution_count": null,
   "metadata": {},
   "outputs": [],
   "source": [
    "#突然發現抓不到6000筆，所以補抓"
   ]
  },
  {
   "cell_type": "code",
   "execution_count": 19,
   "metadata": {},
   "outputs": [
    {
     "name": "stdout",
     "output_type": "stream",
     "text": [
      "OK\n"
     ]
    }
   ],
   "source": [
    "num=range(6500,7500)\n",
    "for i in num:\n",
    "    url = 'https://movies.yahoo.com.tw/movieinfo_main/'+str(i)\n",
    "    resp = requests.get(url)\n",
    "    resp.encoding = 'utf-8'\n",
    "    soup = BeautifulSoup(resp.text,'lxml')\n",
    "    check=soup.find(\"title\")\n",
    "    if check.getText() == 'Yahoo奇摩電影':#除錯\n",
    "        continue\n",
    "    #上映日期\n",
    "    date=soup.find_all(\"span\")\n",
    "    date_list.append(date[60].getText())\n",
    "    #名稱\n",
    "    title=soup.find(\"h1\")\n",
    "    title_eng=soup.find(\"h3\")\n",
    "    title_list.append(title.getText()+' '+title_eng.getText())\n",
    "    #劇情\n",
    "    story=soup.find(\"span\",id=\"story\")\n",
    "    story_text=story.getText()\n",
    "    story_text.strip().replace(u'\\u3000', u' ').replace(u'\\xa0', u' ')\n",
    "    story_list.append(story_text)\n",
    "    #類別\n",
    "    attribute=soup.find_all(\"div\",class_=\"level_name\")\n",
    "    attribute_text=''\n",
    "    flag=0\n",
    "    for attr in attribute:\n",
    "        if attr.a:\n",
    "            if flag==0:\n",
    "                attribute_text=attr.a.text.strip().replace(u'\\u3000', u' ').replace(u'\\xa0', u' ')\n",
    "                flag=1\n",
    "            else:\n",
    "                attribute_text=attribute_text+'、'+attr.a.text.strip().replace(u'\\u3000', u' ').replace(u'\\xa0', u' ')\n",
    "    attribute_list.append(attribute_text)\n",
    "    \n",
    "print('OK')"
   ]
  },
  {
   "cell_type": "code",
   "execution_count": 20,
   "metadata": {},
   "outputs": [
    {
     "name": "stdout",
     "output_type": "stream",
     "text": [
      "戰雲密佈 Storm Catcher\n",
      "-----\n",
      "上映日期：2001-10-12\n",
      "-----\n",
      "\n",
      "            喬治戎格一生都在追求所謂的美國夢，也就是享受美好富裕的生活，但是他卻不願像他父親那樣一輩子都只是個出賣勞力的建築工人。於是他搬到陽光明媚的加州，靠著販賣大麻賺錢，起初，他販毒只是為了享受自由自在的生活，但是當他野心越來越大，他的勢力也日益坐大之際，卻在此時被捕入獄。 他在牢裡認識一個能言善道，自稱熟識哥倫比亞販毒集團的牢友狄亞哥，他出獄後果真把當時勢力最大的毒梟艾斯科巴介紹給喬治認識，艾斯科巴計畫將古柯鹼大量引進美國的迪斯可舞廳，希望能引領一股吸毒狂歡的風潮。除了毒品供應商之外，狄亞哥也介紹了一個美艷又狂野的女人瑪莎給喬治，他們瘋狂相愛，之後馬莎還替他生下一個可愛的女兒克莉絲汀娜，也是喬治一生的最愛。喬治很快就靠著販毒發大財，他還得買一棟大房子專門存放每天賺進來的大把鈔票，但是日進斗金卻整天提心吊膽的生活卻讓喬治開始省思，到底他要繼續過著揮霍富裕的生活，還是為了自己心愛的女兒應該轉性投資正當的事業？可是這時聯邦調查局的探員，也開始盯上毒源禍首的喬治……\n",
      "          \n",
      "-----\n",
      "劇情、犯罪、歷史/傳記\n"
     ]
    }
   ],
   "source": [
    "print(title_list[2])\n",
    "print('-----')\n",
    "print(date_list[0])\n",
    "print('-----')\n",
    "print(story_list[0])\n",
    "print('-----')\n",
    "print(attribute_list[0])\n",
    "\n"
   ]
  },
  {
   "cell_type": "code",
   "execution_count": 25,
   "metadata": {},
   "outputs": [
    {
     "name": "stdout",
     "output_type": "stream",
     "text": [
      "6286\n"
     ]
    }
   ],
   "source": [
    "print(len(title_list))#筆數"
   ]
  },
  {
   "cell_type": "code",
   "execution_count": 22,
   "metadata": {},
   "outputs": [],
   "source": [
    "#list 轉為 csv\n",
    "data=pd.DataFrame()\n",
    "data[\"電影名稱\"]=title_list\n",
    "data[\"類型\"]=attribute_list\n",
    "data[\"上映時間\"]=date_list\n",
    "data[\"劇情介紹\"]=story_list"
   ]
  },
  {
   "cell_type": "code",
   "execution_count": 24,
   "metadata": {},
   "outputs": [],
   "source": [
    "data.to_csv(\"nlp2_data.csv\",encoding=\"utf-8-sig\")"
   ]
  },
  {
   "cell_type": "code",
   "execution_count": null,
   "metadata": {},
   "outputs": [],
   "source": [
    "#改成這樣可以準確抓到6000筆\n",
    "\"\"\"\n",
    "story_list=[]#劇情\n",
    "title_list=[]#名稱\n",
    "date_list=[]#上映日期\n",
    "attribute_list=[]#類型\n",
    "i=0 #筆數\n",
    "k=1 #ID\n",
    "while i != 6000:\n",
    "    url = 'https://movies.yahoo.com.tw/movieinfo_main/'+str(k)\n",
    "    k=k+1\n",
    "    resp = requests.get(url)\n",
    "    resp.encoding = 'utf-8'\n",
    "    soup = BeautifulSoup(resp.text,'lxml')\n",
    "    check=soup.find(\"title\")\n",
    "    if check.getText() == 'Yahoo奇摩電影':#除錯\n",
    "        continue\n",
    "    #上映日期\n",
    "    date=soup.find_all(\"span\")\n",
    "    date_list.append(date[60].getText())\n",
    "    #名稱\n",
    "    title=soup.find(\"h1\")\n",
    "    title_eng=soup.find(\"h3\")\n",
    "    title_list.append(title.getText()+' '+title_eng.getText())\n",
    "    #劇情\n",
    "    story=soup.find(\"span\",id=\"story\")\n",
    "    story_text=story.getText()\n",
    "    story_text.strip().replace(u'\\u3000', u' ').replace(u'\\xa0', u' ')\n",
    "    story_list.append(story_text)\n",
    "    #類別\n",
    "    attribute=soup.find_all(\"div\",class_=\"level_name\")\n",
    "    attribute_text=''\n",
    "    flag=0\n",
    "    for attr in attribute:\n",
    "        if attr.a:\n",
    "            if flag==0:\n",
    "                attribute_text=attr.a.text.strip().replace(u'\\u3000', u' ').replace(u'\\xa0', u' ')\n",
    "                flag=1\n",
    "            else:\n",
    "                attribute_text=attribute_text+'、'+attr.a.text.strip().replace(u'\\u3000', u' ').replace(u'\\xa0', u' ')\n",
    "    attribute_list.append(attribute_text)\n",
    "    i=i+1\n",
    "print('OK')\n",
    "\"\"\""
   ]
  }
 ],
 "metadata": {
  "kernelspec": {
   "display_name": "Python 3",
   "language": "python",
   "name": "python3"
  },
  "language_info": {
   "codemirror_mode": {
    "name": "ipython",
    "version": 3
   },
   "file_extension": ".py",
   "mimetype": "text/x-python",
   "name": "python",
   "nbconvert_exporter": "python",
   "pygments_lexer": "ipython3",
   "version": "3.7.6"
  }
 },
 "nbformat": 4,
 "nbformat_minor": 4
}
