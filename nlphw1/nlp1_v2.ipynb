{
  "nbformat": 4,
  "nbformat_minor": 0,
  "metadata": {
    "colab": {
      "name": "nlp1_v2",
      "provenance": []
    },
    "kernelspec": {
      "name": "python3",
      "display_name": "Python 3"
    },
    "language_info": {
      "name": "python"
    }
  },
  "cells": [
    {
      "cell_type": "code",
      "metadata": {
        "id": "EfihqPP1TYbf"
      },
      "source": [
        "import jieba\n",
        "import jieba.analyse\n",
        "import requests\n",
        "\n",
        "r = requests.get('https://raw.githubusercontent.com/cjwu/cjwu.github.io/master/courses/nlp/hw1-dataset.txt')\n",
        "r.encoding = 'utf-8'\n",
        "list1=[] #將txt每一行當作一個文件\n",
        "words = open('words.txt','w')\n",
        "words.write(r.text)\n",
        "words.close\n",
        "f=open('words.txt')\n",
        "for line in f.readlines():\n",
        "  list1.append(line)\n",
        "\n"
      ],
      "execution_count": 1,
      "outputs": []
    },
    {
      "cell_type": "code",
      "metadata": {
        "id": "ujiZMMSLXSY1"
      },
      "source": [
        "list2=[]#將所有字分詞\n",
        "for word in list1:\n",
        "  seg_list=jieba.lcut(word)\n",
        "  for word_in_line in seg_list:\n",
        "    if word_in_line != '\\t' and word_in_line != '\\n' and word_in_line != ' 'and word_in_line != '）'and word_in_line != '（'and word_in_line != '．'and word_in_line != '\\u3000'and word_in_line != '('and word_in_line != '？'and word_in_line != '，'and word_in_line != '。'and word_in_line != '...':\n",
        "      list2.append(word_in_line)"
      ],
      "execution_count": null,
      "outputs": []
    }
  ]
}