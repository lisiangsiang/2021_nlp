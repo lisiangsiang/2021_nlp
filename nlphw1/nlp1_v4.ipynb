{
  "nbformat": 4,
  "nbformat_minor": 0,
  "metadata": {
    "colab": {
      "name": "nlp1_v4",
      "provenance": []
    },
    "kernelspec": {
      "name": "python3",
      "display_name": "Python 3"
    },
    "language_info": {
      "name": "python"
    }
  },
  "cells": [
    {
      "cell_type": "code",
      "metadata": {
        "colab": {
          "base_uri": "https://localhost:8080/"
        },
        "id": "Fewy_SMY1tcK",
        "outputId": "e81e660d-4ed4-4c4d-89dd-6d3c4bc296ee"
      },
      "source": [
        "import jieba\n",
        "import jieba.analyse\n",
        "import requests\n",
        "\n",
        "r = requests.get('https://raw.githubusercontent.com/cjwu/cjwu.github.io/master/courses/nlp/hw1-dataset.txt')\n",
        "r.encoding = 'utf-8'\n",
        "doc = jieba.lcut(r.text)\n",
        "count={}\n",
        "for word in doc:\n",
        "  if len(word) != 1:\n",
        "    count[word] = count.get(word,0)+1\n",
        "items = list(count.items())\n",
        "items.sort(key=lambda x:x[1],reverse=True)\n",
        "for n in range(100):\n",
        "  word, count = items[n]\n",
        "  print(\"{0:<10}{1:>5}\".format(word,count))"
      ],
      "execution_count": 11,
      "outputs": [
        {
          "output_type": "stream",
          "text": [
            "八卦        79119\n",
            "什麼        57760\n",
            "台灣        35851\n",
            "怎麼        33196\n",
            "可以        23236\n",
            "肥宅        21771\n",
            "是不是       21560\n",
            "真的        16890\n",
            "知道        14114\n",
            "自己        13560\n",
            "不是        11943\n",
            "現在        11279\n",
            "就是        11021\n",
            "不會        10751\n",
            "如果        10690\n",
            "還是        10589\n",
            "一個        10535\n",
            "中國        10230\n",
            "一堆        10098\n",
            "這樣         9671\n",
            "有人         9666\n",
            "怎樣         8861\n",
            "時候         8806\n",
            "女生         8630\n",
            "日本         8594\n",
            "一樣         8514\n",
            "到底         8471\n",
            "不要         8245\n",
            "大家         7886\n",
            "沒有         7745\n",
            "...        7547\n",
            "很多         7488\n",
            "應該         7003\n",
            "喜歡         6782\n",
            "因為         6652\n",
            "看到         6323\n",
            "朋友         6303\n",
            "問題         6177\n",
            "感覺         6147\n",
            "哪個         6126\n",
            "如何         6007\n",
            "這麼         5924\n",
            "多少         5830\n",
            "一直         5686\n",
            "覺得         5527\n",
            "這種         5414\n",
            "美國         5358\n",
            "不能         5267\n",
            "不用         5230\n",
            "根本         4952\n",
            "一定         4863\n",
            "正妹         4833\n",
            "其實         4623\n",
            "只有         4487\n",
            "為何         4464\n",
            "還有         4373\n",
            "東西         4368\n",
            "比較         4308\n",
            "台北         4288\n",
            "那麼         4264\n",
            "可能         4249\n",
            "以前         4139\n",
            "QQ         3990\n",
            "時間         3965\n",
            "一下         3937\n",
            "開始         3919\n",
            "這個         3850\n",
            "妹妹         3812\n",
            "哪裡         3806\n",
            "世界         3792\n",
            "今天         3775\n",
            "沒人         3725\n",
            "甚麼         3700\n",
            "出來         3656\n",
            "所以         3633\n",
            "那個         3577\n",
            "直接         3563\n",
            "發現         3559\n",
            "中國人        3554\n",
            "國家         3554\n",
            "不到         3494\n",
            "工作         3483\n",
            "只是         3395\n",
            "男生         3323\n",
            "好吃         3320\n",
            "他們         3220\n",
            "公司         3199\n",
            "老婆         3157\n",
            "女友         3146\n",
            "已經         2959\n",
            "老師         2943\n",
            "大學         2937\n",
            "變成         2877\n",
            "人家         2840\n",
            "一起         2829\n",
            "邊緣         2807\n",
            "我們         2786\n",
            "結果         2786\n",
            "南部         2744\n",
            "需要         2726\n"
          ],
          "name": "stdout"
        }
      ]
    },
    {
      "cell_type": "code",
      "metadata": {
        "id": "rHtJ3ckr8CH-"
      },
      "source": [
        ""
      ],
      "execution_count": null,
      "outputs": []
    }
  ]
}