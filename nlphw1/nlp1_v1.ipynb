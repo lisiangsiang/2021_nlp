{
  "nbformat": 4,
  "nbformat_minor": 0,
  "metadata": {
    "colab": {
      "name": "nlp1_v1",
      "provenance": []
    },
    "kernelspec": {
      "name": "python3",
      "display_name": "Python 3"
    },
    "language_info": {
      "name": "python"
    }
  },
  "cells": [
    {
      "cell_type": "code",
      "metadata": {
        "id": "EfihqPP1TYbf"
      },
      "source": [
        "import jieba\n",
        "import jieba.analyse\n",
        "import requests\n",
        "\n",
        "r = requests.get('https://raw.githubusercontent.com/cjwu/cjwu.github.io/master/courses/nlp/hw1-dataset.txt')\n",
        "r.encoding = 'utf-8'\n",
        "list1=[] #將txt每一行當作一個文件\n",
        "words = open('words.txt','w')\n",
        "words.write(r.text)\n",
        "words.close\n",
        "f=open('words.txt')\n",
        "for line in f.readlines():\n",
        "  list1.append(line)\n",
        "\n"
      ],
      "execution_count": 1,
      "outputs": []
    }
  ]
}