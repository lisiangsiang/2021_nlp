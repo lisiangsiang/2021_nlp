{
 "cells": [
  {
   "cell_type": "code",
   "execution_count": 1,
   "metadata": {},
   "outputs": [],
   "source": [
    "from opencc import OpenCC\n",
    "import os\n",
    "import jieba\n",
    "import json\n",
    "\n",
    "cc = OpenCC('s2t')\n",
    "data_Path='/Users/chenlisiang/wiki_zh'"
   ]
  },
  {
   "cell_type": "code",
   "execution_count": 2,
   "metadata": {},
   "outputs": [],
   "source": [
    "import re\n",
    "\n",
    "def replace_blank(word):\n",
    "    result=re.sub('\\W+',' ',word).replace(\"_\",'')\n",
    "    return result"
   ]
  },
  {
   "cell_type": "code",
   "execution_count": 3,
   "metadata": {},
   "outputs": [],
   "source": [
    "def wf(Path):\n",
    "    for dirc in os.listdir(Path):\n",
    "        for dirlist in os.listdir(Path+\"/\"+dirc):\n",
    "            with open(\"wiki.txt\", 'a', encoding='utf-8') as new_f:\n",
    "                with open(Path+\"/\"+dirc+\"/\"+dirlist, 'r', newline='', encoding='utf-8') as file:\n",
    "                    for a,data in enumerate(file, 1):\n",
    "                        data = cc.convert(data)\n",
    "                        data = json.loads(data)\n",
    "                        data = replace_blank(data['text'])\n",
    "                        data = jieba.cut(data)\n",
    "                        data = [word for word in data if word != ' ']\n",
    "                        data = ' '.join(data)+\"\\n\"\n",
    "                        new_f.write(data)                      "
   ]
  },
  {
   "cell_type": "code",
   "execution_count": 4,
   "metadata": {},
   "outputs": [],
   "source": [
    "import warnings\n",
    "import gensim, logging\n",
    "warnings.filterwarnings('ignore')"
   ]
  },
  {
   "cell_type": "code",
   "execution_count": 5,
   "metadata": {},
   "outputs": [
    {
     "name": "stderr",
     "output_type": "stream",
     "text": [
      "Building prefix dict from the default dictionary ...\n",
      "Dumping model to file cache /var/folders/h8/xtnqvm910v943k55rmpn3xj40000gn/T/jieba.cache\n",
      "Loading model cost 1.901 seconds.\n",
      "Prefix dict has been built succesfully.\n"
     ]
    }
   ],
   "source": [
    "wf(data_Path)"
   ]
  },
  {
   "cell_type": "code",
   "execution_count": null,
   "metadata": {},
   "outputs": [],
   "source": []
  }
 ],
 "metadata": {
  "kernelspec": {
   "display_name": "Python 3",
   "language": "python",
   "name": "python3"
  },
  "language_info": {
   "codemirror_mode": {
    "name": "ipython",
    "version": 3
   },
   "file_extension": ".py",
   "mimetype": "text/x-python",
   "name": "python",
   "nbconvert_exporter": "python",
   "pygments_lexer": "ipython3",
   "version": "3.7.6"
  }
 },
 "nbformat": 4,
 "nbformat_minor": 4
}
